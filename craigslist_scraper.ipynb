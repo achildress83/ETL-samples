{
 "cells": [
  {
   "cell_type": "code",
   "execution_count": 2,
   "metadata": {},
   "outputs": [],
   "source": [
    "import json\n",
    "from bs4 import BeautifulSoup\n",
    "import requests\n",
    "import re\n",
    "import numpy as np\n",
    "import pandas as pd\n",
    "import time"
   ]
  },
  {
   "cell_type": "code",
   "execution_count": 3,
   "metadata": {},
   "outputs": [],
   "source": [
    "def areas_list_builder():\n",
    "    areas = requests.get('http://reference.craigslist.org/Areas') # Make a get request to retrieve the page\n",
    "    soup_areas = BeautifulSoup(areas.content, 'html.parser') # Pass the page contents to beautiful soup for parsing\n",
    "    areas_list = json.loads(str(soup_areas))\n",
    "    \n",
    "    areas_list_final = []\n",
    "\n",
    "    for area in areas_list:\n",
    "        area = area['ShortDescription'].lower().replace(\" \",\"\")\n",
    "        area = area.replace(\",\",\"\")\n",
    "        areas_list_final.append(area)\n",
    "    \n",
    "    return areas_list, areas_list_final"
   ]
  },
  {
   "cell_type": "code",
   "execution_count": 4,
   "metadata": {},
   "outputs": [],
   "source": [
    "def dataframe_builder():    \n",
    "    #features lists\n",
    "    date = []\n",
    "    price = []\n",
    "    greater_area = []\n",
    "    post_id = []\n",
    "    desc = []\n",
    "\n",
    "    all_areas, all_areas_url = areas_list_builder()\n",
    "\n",
    "    for index, area in enumerate(all_areas_url): \n",
    "        try:\n",
    "            \n",
    "            \n",
    "            \n",
    "            regex_id = re.compile(\"postid_(.*)\")\n",
    "            listings = soup.find_all('li', class_=\"result-row\") \n",
    "\n",
    "            for listing in listings:\n",
    "                datetime = listing.find('time')['datetime'] if listing.find('time')['datetime'] else np.nan\n",
    "                result_price = listing.find('span', class_=\"result-price\").text if listing.find('span', class_=\"result-price\") else np.nan\n",
    "                #result_hood = listing.find('span', class_=\"result-hood\").text.strip().strip(\"()\") if listing.find('span', class_=\"result-hood\") else np.nan\n",
    "\n",
    "                date.append(datetime)\n",
    "                price.append(result_price)\n",
    "                greater_area.append(all_areas[index])\n",
    "\n",
    "                for item in listing.find_all('a', {'id' : regex_id}):\n",
    "                    result_id = item.attrs['id'] if item.attrs['id'] else np.nan \n",
    "                    result_desc = item.text if item else np.nan\n",
    "\n",
    "                    post_id.append(result_id)\n",
    "                    desc.append(result_desc)\n",
    "        except:\n",
    "            pass\n",
    "\n",
    "        time.sleep(10)\n",
    "            \n",
    "    df = pd.DataFrame({\n",
    "    'date': date,\n",
    "    'post_id': post_id,\n",
    "    'price': price,\n",
    "    'description': desc,\n",
    "    'sub_area': greater_area\n",
    "    })\n",
    "    \n",
    "    return df"
   ]
  },
  {
   "cell_type": "code",
   "execution_count": 5,
   "metadata": {},
   "outputs": [
    {
     "name": "stdout",
     "output_type": "stream",
     "text": [
      "               date            post_id price  \\\n",
      "0  2021-03-26 14:00  postid_7286348572  $725   \n",
      "1  2021-03-26 13:59  postid_7295902767  $725   \n",
      "2  2021-03-26 13:59  postid_7295904671  $725   \n",
      "3  2021-03-26 13:44  postid_7297470882  $650   \n",
      "4  2021-03-26 13:24  postid_7297386317  $800   \n",
      "\n",
      "                           description  \\\n",
      "0     Playstation 5 (PS5) Disc Edition   \n",
      "1     Playstation 5 (PS5) Disc Edition   \n",
      "2  Sony Playstation 5 PS5 Disk Console   \n",
      "3           Playstation 5 Disc Edition   \n",
      "4                    PlayStation 5 PS5   \n",
      "\n",
      "                                            sub_area  \n",
      "0  {'Abbreviation': 'sfo', 'AreaID': 1, 'Country'...  \n",
      "1  {'Abbreviation': 'sfo', 'AreaID': 1, 'Country'...  \n",
      "2  {'Abbreviation': 'sfo', 'AreaID': 1, 'Country'...  \n",
      "3  {'Abbreviation': 'sfo', 'AreaID': 1, 'Country'...  \n",
      "4  {'Abbreviation': 'sfo', 'AreaID': 1, 'Country'...  \n",
      "<class 'pandas.core.frame.DataFrame'>\n",
      "RangeIndex: 8419 entries, 0 to 8418\n",
      "Data columns (total 5 columns):\n",
      "date           8419 non-null object\n",
      "post_id        8419 non-null object\n",
      "price          8419 non-null object\n",
      "description    8419 non-null object\n",
      "sub_area       8419 non-null object\n",
      "dtypes: object(5)\n",
      "memory usage: 328.9+ KB\n",
      "None\n",
      "(8419, 5)\n"
     ]
    }
   ],
   "source": [
    "data = dataframe_builder()\n",
    "print(data.head())\n",
    "print(data.info())\n",
    "print(data.shape)"
   ]
  },
  {
   "cell_type": "code",
   "execution_count": 7,
   "metadata": {},
   "outputs": [],
   "source": [
    "#data.to_csv('craigslist_3.26.21.csv', index = True)"
   ]
  },
  {
   "cell_type": "code",
   "execution_count": null,
   "metadata": {},
   "outputs": [],
   "source": []
  }
 ],
 "metadata": {
  "kernelspec": {
   "display_name": "Python 3 (ipykernel)",
   "language": "python",
   "name": "python3"
  },
  "language_info": {
   "codemirror_mode": {
    "name": "ipython",
    "version": 3
   },
   "file_extension": ".py",
   "mimetype": "text/x-python",
   "name": "python",
   "nbconvert_exporter": "python",
   "pygments_lexer": "ipython3",
   "version": "3.9.7"
  }
 },
 "nbformat": 4,
 "nbformat_minor": 2
}
